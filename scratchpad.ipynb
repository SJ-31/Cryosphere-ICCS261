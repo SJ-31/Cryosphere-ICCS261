{
 "cells": [
  {
   "attachments": {},
   "cell_type": "markdown",
   "metadata": {},
   "source": [
    "## Preparing the BLAST databases\n",
    "Two databases were obtained: \n",
    "- All annotated 16S rRNA from the NCBI ftp [website](https://ftp-ncbi-nlm-nih-gov.ejournal.mahidol.ac.th/blast/db/v5/)\n",
    "- Annotated 16S rRNA used by the tool [MicFunPred](https://github.com/microDM/MicFunPred)\n",
    "\n",
    "Because these databases were of incompatible versions (the MicFun is a version 4 database while the NCBI is version 5), I extracted all the "
   ]
  },
  {
   "cell_type": "code",
   "execution_count": null,
   "metadata": {
    "vscode": {
     "languageId": "shellscript"
    }
   },
   "outputs": [],
   "source": [
    "# Combining nucleotide databases\n",
    "blastdb_aliastool -dblist \"db1 db2\" -dbtype nucl -out 16sCombined -title \"16sCombined\""
   ]
  },
  {
   "cell_type": "code",
   "execution_count": null,
   "metadata": {
    "vscode": {
     "languageId": "shellscript"
    }
   },
   "outputs": [],
   "source": [
    "# Verify the combined database\n",
    "blastdbcmd -entry all -db 16sCombined -out combined_check.fasta"
   ]
  },
  {
   "cell_type": "code",
   "execution_count": null,
   "metadata": {
    "vscode": {
     "languageId": "shellscript"
    }
   },
   "outputs": [],
   "source": [
    "# Search with a specific output format\n",
    "# -outfmt 5 is for xml format, 6 for tabular\n",
    "blastn -query <query file in fasta or raw seqs> -db 16sCombined -outfmt 5 -out <output filenme>"
   ]
  },
  {
   "attachments": {},
   "cell_type": "markdown",
   "metadata": {},
   "source": [
    "## Parsing BLAST output\n",
    "Will be using the Biopython package for this. "
   ]
  },
  {
   "cell_type": "code",
   "execution_count": 61,
   "metadata": {},
   "outputs": [
    {
     "name": "stderr",
     "output_type": "stream",
     "text": [
      "/home/sc31/Bio_SDD/miniconda3/lib/python3.10/site-packages/Bio/SearchIO/BlastIO/blast_xml.py:339: BiopythonParserWarning: Renaming hit ID '2663763413_Escherichia_coli_TOP293-4' to a BLAST-generated ID 'gnl|BL_ORD_ID|27423' since the ID was already matched by your query 'M01457:82:000000000-B6GV3:1:1104:19070:5914'. Your BLAST database may contain duplicate entries.\n",
      "  warnings.warn(\n",
      "/home/sc31/Bio_SDD/miniconda3/lib/python3.10/site-packages/Bio/SearchIO/BlastIO/blast_xml.py:339: BiopythonParserWarning: Renaming hit ID '2660237930_Escherichia_coli_TOP550-1' to a BLAST-generated ID 'gnl|BL_ORD_ID|27419' since the ID was already matched by your query 'M01457:82:000000000-B6GV3:1:1104:19070:5914'. Your BLAST database may contain duplicate entries.\n",
      "  warnings.warn(\n"
     ]
    },
    {
     "ename": "KeyboardInterrupt",
     "evalue": "",
     "output_type": "error",
     "traceback": [
      "\u001b[0;31m---------------------------------------------------------------------------\u001b[0m",
      "\u001b[0;31mKeyboardInterrupt\u001b[0m                         Traceback (most recent call last)",
      "Cell \u001b[0;32mIn[61], line 26\u001b[0m\n\u001b[1;32m     24\u001b[0m temp\u001b[39m.\u001b[39mclose\n\u001b[1;32m     25\u001b[0m blastsearch: \u001b[39mstr\u001b[39m \u001b[39m=\u001b[39m \u001b[39mf\u001b[39m\u001b[39m\"\u001b[39m\u001b[39mblastn \u001b[39m\u001b[39m{\u001b[39;00mparams\u001b[39m}\u001b[39;00m\u001b[39m -query temp.fasta -db \u001b[39m\u001b[39m{\u001b[39;00mblastdb\u001b[39m}\u001b[39;00m\u001b[39m > temp.txt\u001b[39m\u001b[39m\"\u001b[39m\n\u001b[0;32m---> 26\u001b[0m sp\u001b[39m.\u001b[39;49mrun(blastsearch, shell\u001b[39m=\u001b[39;49m\u001b[39mTrue\u001b[39;49;00m)\n\u001b[1;32m     27\u001b[0m parse \u001b[39m=\u001b[39m SearchIO\u001b[39m.\u001b[39mread(\u001b[39m'\u001b[39m\u001b[39mtemp.txt\u001b[39m\u001b[39m'\u001b[39m, \u001b[39m'\u001b[39m\u001b[39mblast-xml\u001b[39m\u001b[39m'\u001b[39m)\n\u001b[1;32m     28\u001b[0m \u001b[39mif\u001b[39;00m \u001b[39mnot\u001b[39;00m \u001b[39mlen\u001b[39m(parse):\n",
      "File \u001b[0;32m~/Bio_SDD/miniconda3/lib/python3.10/subprocess.py:505\u001b[0m, in \u001b[0;36mrun\u001b[0;34m(input, capture_output, timeout, check, *popenargs, **kwargs)\u001b[0m\n\u001b[1;32m    503\u001b[0m \u001b[39mwith\u001b[39;00m Popen(\u001b[39m*\u001b[39mpopenargs, \u001b[39m*\u001b[39m\u001b[39m*\u001b[39mkwargs) \u001b[39mas\u001b[39;00m process:\n\u001b[1;32m    504\u001b[0m     \u001b[39mtry\u001b[39;00m:\n\u001b[0;32m--> 505\u001b[0m         stdout, stderr \u001b[39m=\u001b[39m process\u001b[39m.\u001b[39;49mcommunicate(\u001b[39minput\u001b[39;49m, timeout\u001b[39m=\u001b[39;49mtimeout)\n\u001b[1;32m    506\u001b[0m     \u001b[39mexcept\u001b[39;00m TimeoutExpired \u001b[39mas\u001b[39;00m exc:\n\u001b[1;32m    507\u001b[0m         process\u001b[39m.\u001b[39mkill()\n",
      "File \u001b[0;32m~/Bio_SDD/miniconda3/lib/python3.10/subprocess.py:1146\u001b[0m, in \u001b[0;36mPopen.communicate\u001b[0;34m(self, input, timeout)\u001b[0m\n\u001b[1;32m   1144\u001b[0m         stderr \u001b[39m=\u001b[39m \u001b[39mself\u001b[39m\u001b[39m.\u001b[39mstderr\u001b[39m.\u001b[39mread()\n\u001b[1;32m   1145\u001b[0m         \u001b[39mself\u001b[39m\u001b[39m.\u001b[39mstderr\u001b[39m.\u001b[39mclose()\n\u001b[0;32m-> 1146\u001b[0m     \u001b[39mself\u001b[39;49m\u001b[39m.\u001b[39;49mwait()\n\u001b[1;32m   1147\u001b[0m \u001b[39melse\u001b[39;00m:\n\u001b[1;32m   1148\u001b[0m     \u001b[39mif\u001b[39;00m timeout \u001b[39mis\u001b[39;00m \u001b[39mnot\u001b[39;00m \u001b[39mNone\u001b[39;00m:\n",
      "File \u001b[0;32m~/Bio_SDD/miniconda3/lib/python3.10/subprocess.py:1209\u001b[0m, in \u001b[0;36mPopen.wait\u001b[0;34m(self, timeout)\u001b[0m\n\u001b[1;32m   1207\u001b[0m     endtime \u001b[39m=\u001b[39m _time() \u001b[39m+\u001b[39m timeout\n\u001b[1;32m   1208\u001b[0m \u001b[39mtry\u001b[39;00m:\n\u001b[0;32m-> 1209\u001b[0m     \u001b[39mreturn\u001b[39;00m \u001b[39mself\u001b[39;49m\u001b[39m.\u001b[39;49m_wait(timeout\u001b[39m=\u001b[39;49mtimeout)\n\u001b[1;32m   1210\u001b[0m \u001b[39mexcept\u001b[39;00m \u001b[39mKeyboardInterrupt\u001b[39;00m:\n\u001b[1;32m   1211\u001b[0m     \u001b[39m# https://bugs.python.org/issue25942\u001b[39;00m\n\u001b[1;32m   1212\u001b[0m     \u001b[39m# The first keyboard interrupt waits briefly for the child to\u001b[39;00m\n\u001b[1;32m   1213\u001b[0m     \u001b[39m# exit under the common assumption that it also received the ^C\u001b[39;00m\n\u001b[1;32m   1214\u001b[0m     \u001b[39m# generated SIGINT and will exit rapidly.\u001b[39;00m\n\u001b[1;32m   1215\u001b[0m     \u001b[39mif\u001b[39;00m timeout \u001b[39mis\u001b[39;00m \u001b[39mnot\u001b[39;00m \u001b[39mNone\u001b[39;00m:\n",
      "File \u001b[0;32m~/Bio_SDD/miniconda3/lib/python3.10/subprocess.py:1943\u001b[0m, in \u001b[0;36mPopen._wait\u001b[0;34m(self, timeout)\u001b[0m\n\u001b[1;32m   1941\u001b[0m \u001b[39mif\u001b[39;00m \u001b[39mself\u001b[39m\u001b[39m.\u001b[39mreturncode \u001b[39mis\u001b[39;00m \u001b[39mnot\u001b[39;00m \u001b[39mNone\u001b[39;00m:\n\u001b[1;32m   1942\u001b[0m     \u001b[39mbreak\u001b[39;00m  \u001b[39m# Another thread waited.\u001b[39;00m\n\u001b[0;32m-> 1943\u001b[0m (pid, sts) \u001b[39m=\u001b[39m \u001b[39mself\u001b[39;49m\u001b[39m.\u001b[39;49m_try_wait(\u001b[39m0\u001b[39;49m)\n\u001b[1;32m   1944\u001b[0m \u001b[39m# Check the pid and loop as waitpid has been known to\u001b[39;00m\n\u001b[1;32m   1945\u001b[0m \u001b[39m# return 0 even without WNOHANG in odd situations.\u001b[39;00m\n\u001b[1;32m   1946\u001b[0m \u001b[39m# http://bugs.python.org/issue14396.\u001b[39;00m\n\u001b[1;32m   1947\u001b[0m \u001b[39mif\u001b[39;00m pid \u001b[39m==\u001b[39m \u001b[39mself\u001b[39m\u001b[39m.\u001b[39mpid:\n",
      "File \u001b[0;32m~/Bio_SDD/miniconda3/lib/python3.10/subprocess.py:1901\u001b[0m, in \u001b[0;36mPopen._try_wait\u001b[0;34m(self, wait_flags)\u001b[0m\n\u001b[1;32m   1899\u001b[0m \u001b[39m\u001b[39m\u001b[39m\"\"\"All callers to this function MUST hold self._waitpid_lock.\"\"\"\u001b[39;00m\n\u001b[1;32m   1900\u001b[0m \u001b[39mtry\u001b[39;00m:\n\u001b[0;32m-> 1901\u001b[0m     (pid, sts) \u001b[39m=\u001b[39m os\u001b[39m.\u001b[39;49mwaitpid(\u001b[39mself\u001b[39;49m\u001b[39m.\u001b[39;49mpid, wait_flags)\n\u001b[1;32m   1902\u001b[0m \u001b[39mexcept\u001b[39;00m \u001b[39mChildProcessError\u001b[39;00m:\n\u001b[1;32m   1903\u001b[0m     \u001b[39m# This happens if SIGCLD is set to be ignored or waiting\u001b[39;00m\n\u001b[1;32m   1904\u001b[0m     \u001b[39m# for child processes has otherwise been disabled for our\u001b[39;00m\n\u001b[1;32m   1905\u001b[0m     \u001b[39m# process.  This child is dead, we can't get the status.\u001b[39;00m\n\u001b[1;32m   1906\u001b[0m     pid \u001b[39m=\u001b[39m \u001b[39mself\u001b[39m\u001b[39m.\u001b[39mpid\n",
      "\u001b[0;31mKeyboardInterrupt\u001b[0m: "
     ]
    }
   ],
   "source": [
    "import subprocess as sp\n",
    "import numpy as np\n",
    "from Bio import SearchIO, SeqIO\n",
    "import pandas as pd\n",
    "from Bio.Blast import NCBIXML\n",
    "blastdb: str = \"data/blastdb/16sCombined\"\n",
    "params: str = (\n",
    "            \"-outfmt 5 \" +\n",
    "            \"-max_target_seqs 10 \" +\n",
    "            \"-perc_identity 90 \"\n",
    ")\n",
    "to_parse = \"testblast.fasta\"\n",
    "parse_type = \"fasta\"\n",
    "\n",
    "seq_frame = pd.DataFrame()\n",
    "sequences: np.array = np.array([])\n",
    "ids: np.array = np.array([])\n",
    "top_hits: np.array = np.array([])\n",
    "# Search the fasta file\n",
    "for query in SeqIO.parse(to_parse, parse_type):\n",
    "    temp = open('temp.fasta', 'w+')\n",
    "    temp.write(f'>{query.id}\\n{query.seq}')\n",
    "    t = temp.read()\n",
    "    temp.close\n",
    "    blastsearch: str = f\"blastn {params} -query temp.fasta -db {blastdb} > temp.txt\"\n",
    "    sp.run(blastsearch, shell=True)\n",
    "    parse = SearchIO.read('temp.txt', 'blast-xml')\n",
    "    if not len(parse):\n",
    "        continue\n",
    "    sequences = np.append(sequences, str(query.seq))\n",
    "    top_hits = np.append(top_hits, parse[0].id)\n",
    "    ids = np.append(ids, query.id)\n",
    "\n",
    "# Construct the dataframe\n",
    "seq_frame['Query id'] = ids\n",
    "seq_frame['Query sequence'] = sequences\n",
    "seq_frame['Top hit'] = top_hits\n",
    "seq_frame.to_csv('output.csv')"
   ]
  },
  {
   "cell_type": "code",
   "execution_count": 21,
   "metadata": {
    "vscode": {
     "languageId": "shellscript"
    }
   },
   "outputs": [
    {
     "ename": "SyntaxError",
     "evalue": "incomplete input (2602383775.py, line 4)",
     "output_type": "error",
     "traceback": [
      "\u001b[0;36m  Cell \u001b[0;32mIn[21], line 4\u001b[0;36m\u001b[0m\n\u001b[0;31m    for record in blast_records:\u001b[0m\n\u001b[0m                                ^\u001b[0m\n\u001b[0;31mSyntaxError\u001b[0m\u001b[0;31m:\u001b[0m incomplete input\n"
     ]
    }
   ],
   "source": [
    "# For parsing through blast output with 1+ queries\n",
    "result_handle = open(\"my_blast.xml\")\n",
    "blast_records = NCBIXML.parse() # Is an iterator object, so you can loop over it to access each query\n",
    "for record in blast_records:"
   ]
  },
  {
   "cell_type": "code",
   "execution_count": 5,
   "metadata": {},
   "outputs": [
    {
     "data": {
      "text/html": [
       "<div>\n",
       "<style scoped>\n",
       "    .dataframe tbody tr th:only-of-type {\n",
       "        vertical-align: middle;\n",
       "    }\n",
       "\n",
       "    .dataframe tbody tr th {\n",
       "        vertical-align: top;\n",
       "    }\n",
       "\n",
       "    .dataframe thead th {\n",
       "        text-align: right;\n",
       "    }\n",
       "</style>\n",
       "<table border=\"1\" class=\"dataframe\">\n",
       "  <thead>\n",
       "    <tr style=\"text-align: right;\">\n",
       "      <th></th>\n",
       "      <th>M01457:82:000000000-B6GV3:1:1101:20647:1278</th>\n",
       "      <th>JX224393.1.1496_Desulfotomaculum</th>\n",
       "      <th>75.745</th>\n",
       "      <th>235</th>\n",
       "      <th>52</th>\n",
       "      <th>3</th>\n",
       "      <th>6</th>\n",
       "      <th>240</th>\n",
       "      <th>340</th>\n",
       "      <th>569</th>\n",
       "      <th>1.60e-24</th>\n",
       "      <th>113</th>\n",
       "    </tr>\n",
       "  </thead>\n",
       "  <tbody>\n",
       "    <tr>\n",
       "      <th>0</th>\n",
       "      <td>M01457:82:000000000-B6GV3:1:1101:20647:1278</td>\n",
       "      <td>JX225284.1.1296_Desulfotomaculum</td>\n",
       "      <td>87.778</td>\n",
       "      <td>90</td>\n",
       "      <td>11</td>\n",
       "      <td>0</td>\n",
       "      <td>6</td>\n",
       "      <td>95</td>\n",
       "      <td>123</td>\n",
       "      <td>212</td>\n",
       "      <td>2.680000e-22</td>\n",
       "      <td>106</td>\n",
       "    </tr>\n",
       "    <tr>\n",
       "      <th>1</th>\n",
       "      <td>M01457:82:000000000-B6GV3:1:1101:20647:1278</td>\n",
       "      <td>JX224226.1.1352_Desulfotomaculum</td>\n",
       "      <td>92.105</td>\n",
       "      <td>76</td>\n",
       "      <td>4</td>\n",
       "      <td>2</td>\n",
       "      <td>6</td>\n",
       "      <td>80</td>\n",
       "      <td>339</td>\n",
       "      <td>413</td>\n",
       "      <td>2.680000e-22</td>\n",
       "      <td>106</td>\n",
       "    </tr>\n",
       "    <tr>\n",
       "      <th>2</th>\n",
       "      <td>M01457:82:000000000-B6GV3:1:1101:20647:1278</td>\n",
       "      <td>JX224392.1.1496_Desulfotomaculum</td>\n",
       "      <td>85.149</td>\n",
       "      <td>101</td>\n",
       "      <td>15</td>\n",
       "      <td>0</td>\n",
       "      <td>6</td>\n",
       "      <td>106</td>\n",
       "      <td>340</td>\n",
       "      <td>440</td>\n",
       "      <td>9.650000e-22</td>\n",
       "      <td>104</td>\n",
       "    </tr>\n",
       "    <tr>\n",
       "      <th>3</th>\n",
       "      <td>M01457:82:000000000-B6GV3:1:1101:20647:1278</td>\n",
       "      <td>JX224446.1.1287_Desulfosporosinus</td>\n",
       "      <td>90.789</td>\n",
       "      <td>76</td>\n",
       "      <td>5</td>\n",
       "      <td>2</td>\n",
       "      <td>6</td>\n",
       "      <td>80</td>\n",
       "      <td>136</td>\n",
       "      <td>210</td>\n",
       "      <td>1.250000e-20</td>\n",
       "      <td>100</td>\n",
       "    </tr>\n",
       "  </tbody>\n",
       "</table>\n",
       "</div>"
      ],
      "text/plain": [
       "   M01457:82:000000000-B6GV3:1:1101:20647:1278   \n",
       "0  M01457:82:000000000-B6GV3:1:1101:20647:1278  \\\n",
       "1  M01457:82:000000000-B6GV3:1:1101:20647:1278   \n",
       "2  M01457:82:000000000-B6GV3:1:1101:20647:1278   \n",
       "3  M01457:82:000000000-B6GV3:1:1101:20647:1278   \n",
       "\n",
       "    JX224393.1.1496_Desulfotomaculum  75.745  235  52  3  6  240  340  569   \n",
       "0   JX225284.1.1296_Desulfotomaculum  87.778   90  11  0  6   95  123  212  \\\n",
       "1   JX224226.1.1352_Desulfotomaculum  92.105   76   4  2  6   80  339  413   \n",
       "2   JX224392.1.1496_Desulfotomaculum  85.149  101  15  0  6  106  340  440   \n",
       "3  JX224446.1.1287_Desulfosporosinus  90.789   76   5  2  6   80  136  210   \n",
       "\n",
       "       1.60e-24  113  \n",
       "0  2.680000e-22  106  \n",
       "1  2.680000e-22  106  \n",
       "2  9.650000e-22  104  \n",
       "3  1.250000e-20  100  "
      ]
     },
     "execution_count": 5,
     "metadata": {},
     "output_type": "execute_result"
    }
   ],
   "source": [
    "import pandas as pd\n",
    "new = pd.read_csv('data/blastdb/tab.txt', sep='\\t')\n",
    "new"
   ]
  },
  {
   "attachments": {},
   "cell_type": "markdown",
   "metadata": {},
   "source": [
    "# Datasets\n",
    "These data sets will be the test datasets that you use\n",
    "- https://www.ebi.ac.uk/ena/browser/view/PRJEB9039 - Microbial life in geothermal and volcanic areas\n",
    "- https://www.ebi.ac.uk/ena/browser/view/PRJEB10824 - Functional diversity of Outokumpu fractures\n",
    "- https://www.ebi.ac.uk/ena/browser/view/PRJEB10822 Outokumpu fracture communities\n",
    "- https://www.ebi.ac.uk/ena/browser/view/PRJNA188465 Sulfidic cave snottites Metagenome\n",
    "- https://www.ebi.ac.uk/ena/browser/view/PRJNA487671 BACTERIAL COMMUNITIES IN THE ACID AND THERMOPHILIC CRATER-LAKE OF THE VOLCANO \"EL CHICHON\", MEXICO\n",
    "- https://www.ebi.ac.uk/ena/browser/view/PRJEB36834 Prokaryotic Community Profiling of the Mt. Makiling Mudspring\n",
    "- https://www.ebi.ac.uk/ena/browser/view/PRJEB10725 This dataset has both amplicon and shotgun data, so you would try out your method on the amplicon data only and see if it was able to recover the same go annotations. But it is 551 gb so be careful when downloading. Could use this as a training set\n",
    "    - https://www.ebi.ac.uk/ena/browser/view/PRJEB87662 This too\n",
    "    - This could also be used, only 14 gb https://www.ebi.ac.uk/ena/browser/view/PRJNA394849\n",
    "    - https://www.ebi.ac.uk/ena/browser/view/PRJEB34718 This one is on lichens, probably the best one because of its size\n",
    "- [Here](https://www-ncbi-nlm-nih-gov.ejournal.mahidol.ac.th/sra) is a link to the 16srRNA from [this](https://www.ebi.ac.uk/ena/browser/view/PRJNA682552?show=publications) sediment study\n",
    "- [Another](https://www-ncbi-nlm-nih-gov.ejournal.mahidol.ac.th/sra) 16srRNA resource from [this](https://www.ebi.ac.uk/metagenomics/studies/MGYS00000666#overview) soil study"
   ]
  },
  {
   "attachments": {},
   "cell_type": "markdown",
   "metadata": {},
   "source": [
    "# Machine learning\n",
    "https://www.kaggle.com/code/singhakash/dna-sequencing-with-machine-learning What you should use for the learning"
   ]
  },
  {
   "attachments": {},
   "cell_type": "markdown",
   "metadata": {},
   "source": [
    "# Metagenomic processing\n",
    "Most of this will be handled with qiime2, a cli program "
   ]
  }
 ],
 "metadata": {
  "kernelspec": {
   "display_name": "base",
   "language": "python",
   "name": "python3"
  },
  "language_info": {
   "codemirror_mode": {
    "name": "ipython",
    "version": 3
   },
   "file_extension": ".py",
   "mimetype": "text/x-python",
   "name": "python",
   "nbconvert_exporter": "python",
   "pygments_lexer": "ipython3",
   "version": "3.10.10"
  },
  "orig_nbformat": 4
 },
 "nbformat": 4,
 "nbformat_minor": 2
}
