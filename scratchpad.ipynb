{
 "cells": [
  {
   "attachments": {},
   "cell_type": "markdown",
   "metadata": {},
   "source": [
    "## Preparing the BLAST databases\n",
    "\n",
    "Two databases were obtained:\n",
    "\n",
    "- All annotated 16S rRNA from the NCBI ftp [website](https://ftp-ncbi-nlm-nih-gov.ejournal.mahidol.ac.th/blast/db/v5/)\n",
    "- Annotated 16S rRNA used by the tool [MicFunPred](https://github.com/microDM/MicFunPred)\n",
    "\n",
    "Because these databases were of incompatible versions (the MicFun is a version 4 database while the NCBI is version 5), I extracted all the\n",
    "\n",
    "# Combining nucleotide databases\n",
    "blastdb_aliastool -dblist \"db1 db2\" -dbtype nucl -out 16sCombined -title \"16sCombined\""
   ]
  },
  {
   "cell_type": "code",
   "execution_count": null,
   "metadata": {
    "vscode": {
     "languageId": "shellscript"
    }
   },
   "outputs": [],
   "source": [
    "# Verify the combined database\n",
    "blastdbcmd -entry all -db 16sCombined -out combined_check.fasta"
   ]
  },
  {
   "cell_type": "code",
   "execution_count": null,
   "metadata": {
    "vscode": {
     "languageId": "shellscript"
    }
   },
   "outputs": [],
   "source": [
    "# Search with a specific output format\n",
    "# -outfmt 5 is for xml format, 6 for tabular\n",
    "blastn -query <query file in fasta or raw seqs> -db 16sCombined -outfmt 5 -out <output filenme>"
   ]
  },
  {
   "attachments": {},
   "cell_type": "markdown",
   "metadata": {},
   "source": [
    "## Parsing BLAST output\n",
    "\n",
    "Will be using the Biopython package for this.\n"
   ]
  },
  {
   "cell_type": "code",
   "execution_count": 1,
   "metadata": {},
   "outputs": [
    {
     "name": "stderr",
     "output_type": "stream",
     "text": [
      "/home/sc31/Bio_SDD/miniconda3/lib/python3.10/site-packages/Bio/SearchIO/_legacy/__init__.py:12: BiopythonDeprecationWarning: The 'Bio.SearchIO._legacy' module for parsing BLAST plain text output is deprecated and will be removed in a future release of Biopython. Consider generating your BLAST output for parsing as XML or tabular format instead.\n",
      "  warnings.warn(\n",
      "/home/sc31/Bio_SDD/miniconda3/lib/python3.10/site-packages/Bio/SearchIO/BlastIO/blast_xml.py:339: BiopythonParserWarning: Renaming hit ID '2663763413_Escherichia_coli_TOP293-4' to a BLAST-generated ID 'gnl|BL_ORD_ID|27423' since the ID was already matched by your query 'M01457:82:000000000-B6GV3:1:1104:19070:5914'. Your BLAST database may contain duplicate entries.\n",
      "  warnings.warn(\n",
      "/home/sc31/Bio_SDD/miniconda3/lib/python3.10/site-packages/Bio/SearchIO/BlastIO/blast_xml.py:339: BiopythonParserWarning: Renaming hit ID '2660237930_Escherichia_coli_TOP550-1' to a BLAST-generated ID 'gnl|BL_ORD_ID|27419' since the ID was already matched by your query 'M01457:82:000000000-B6GV3:1:1104:19070:5914'. Your BLAST database may contain duplicate entries.\n",
      "  warnings.warn(\n",
      "/home/sc31/Bio_SDD/miniconda3/lib/python3.10/site-packages/Bio/SearchIO/BlastIO/blast_xml.py:339: BiopythonParserWarning: Renaming hit ID '2521172686_Burkholderia_pseudomallei_BPC006' to a BLAST-generated ID 'gnl|BL_ORD_ID|27341' since the ID was already matched by your query 'M01457:82:000000000-B6GV3:1:1112:9307:4070'. Your BLAST database may contain duplicate entries.\n",
      "  warnings.warn(\n"
     ]
    }
   ],
   "source": [
    "import subprocess as sp\n",
    "import numpy as np\n",
    "from Bio import SearchIO, SeqIO\n",
    "import pandas as pd\n",
    "from Bio.Blast import NCBIXML\n",
    "blastdb: str = \"data/blastdb/16sCombined\"\n",
    "params: str = (\n",
    "            \"-outfmt 5 \" +\n",
    "            \"-max_target_seqs 10 \" +\n",
    "            \"-perc_identity 90 \"\n",
    ")\n",
    "to_parse = \"testblast.fasta\"\n",
    "parse_type = \"fasta\"\n",
    "\n",
    "seq_frame = pd.DataFrame()\n",
    "sequences: np.array = np.array([])\n",
    "ids: np.array = np.array([])\n",
    "top_hits: np.array = np.array([])\n",
    "# Search the fasta file\n",
    "for query in SeqIO.parse(to_parse, parse_type):\n",
    "    temp = open('temp.fasta', 'w+')\n",
    "    temp.write(f'>{query.id}\\n{query.seq}')\n",
    "    t = temp.read()\n",
    "    temp.close\n",
    "    blastsearch: str = f\"blastn {params} -query temp.fasta -db {blastdb} > temp.txt\"\n",
    "    sp.run(blastsearch, shell=True)\n",
    "    parse = SearchIO.read('temp.txt', 'blast-xml')\n",
    "    if not len(parse):\n",
    "        continue\n",
    "    sequences = np.append(sequences, str(query.seq))\n",
    "    top_hits = np.append(top_hits, parse[0].id)\n",
    "    ids = np.append(ids, query.id)\n",
    "\n",
    "# Construct the dataframe\n",
    "seq_frame['Query id'] = ids\n",
    "seq_frame['Query sequence'] = sequences\n",
    "seq_frame['Top hit'] = top_hits\n",
    "seq_frame.to_csv('output.csv')"
   ]
  },
  {
   "cell_type": "code",
   "execution_count": 5,
   "metadata": {},
   "outputs": [
    {
     "data": {
      "text/plain": [
       "(1108,)"
      ]
     },
     "execution_count": 5,
     "metadata": {},
     "output_type": "execute_result"
    }
   ],
   "source": [
    "import pandas as pd\n",
    "out = pd.read_csv('output.csv')"
   ]
  },
  {
   "cell_type": "code",
   "execution_count": 21,
   "metadata": {
    "vscode": {
     "languageId": "shellscript"
    }
   },
   "outputs": [
    {
     "ename": "SyntaxError",
     "evalue": "incomplete input (2602383775.py, line 4)",
     "output_type": "error",
     "traceback": [
      "\u001b[0;36m  Cell \u001b[0;32mIn[21], line 4\u001b[0;36m\u001b[0m\n\u001b[0;31m    for record in blast_records:\u001b[0m\n\u001b[0m                                ^\u001b[0m\n\u001b[0;31mSyntaxError\u001b[0m\u001b[0;31m:\u001b[0m incomplete input\n"
     ]
    }
   ],
   "source": [
    "# For parsing through blast output with 1+ queries\n",
    "result_handle = open(\"my_blast.xml\")\n",
    "blast_records = NCBIXML.parse() # Is an iterator object, so you can loop over it to access each query\n",
    "for record in blast_records:"
   ]
  },
  {
   "cell_type": "code",
   "execution_count": 5,
   "metadata": {},
   "outputs": [
    {
     "data": {
      "text/html": [
       "<div>\n",
       "<style scoped>\n",
       "    .dataframe tbody tr th:only-of-type {\n",
       "        vertical-align: middle;\n",
       "    }\n",
       "\n",
       "    .dataframe tbody tr th {\n",
       "        vertical-align: top;\n",
       "    }\n",
       "\n",
       "    .dataframe thead th {\n",
       "        text-align: right;\n",
       "    }\n",
       "</style>\n",
       "<table border=\"1\" class=\"dataframe\">\n",
       "  <thead>\n",
       "    <tr style=\"text-align: right;\">\n",
       "      <th></th>\n",
       "      <th>M01457:82:000000000-B6GV3:1:1101:20647:1278</th>\n",
       "      <th>JX224393.1.1496_Desulfotomaculum</th>\n",
       "      <th>75.745</th>\n",
       "      <th>235</th>\n",
       "      <th>52</th>\n",
       "      <th>3</th>\n",
       "      <th>6</th>\n",
       "      <th>240</th>\n",
       "      <th>340</th>\n",
       "      <th>569</th>\n",
       "      <th>1.60e-24</th>\n",
       "      <th>113</th>\n",
       "    </tr>\n",
       "  </thead>\n",
       "  <tbody>\n",
       "    <tr>\n",
       "      <th>0</th>\n",
       "      <td>M01457:82:000000000-B6GV3:1:1101:20647:1278</td>\n",
       "      <td>JX225284.1.1296_Desulfotomaculum</td>\n",
       "      <td>87.778</td>\n",
       "      <td>90</td>\n",
       "      <td>11</td>\n",
       "      <td>0</td>\n",
       "      <td>6</td>\n",
       "      <td>95</td>\n",
       "      <td>123</td>\n",
       "      <td>212</td>\n",
       "      <td>2.680000e-22</td>\n",
       "      <td>106</td>\n",
       "    </tr>\n",
       "    <tr>\n",
       "      <th>1</th>\n",
       "      <td>M01457:82:000000000-B6GV3:1:1101:20647:1278</td>\n",
       "      <td>JX224226.1.1352_Desulfotomaculum</td>\n",
       "      <td>92.105</td>\n",
       "      <td>76</td>\n",
       "      <td>4</td>\n",
       "      <td>2</td>\n",
       "      <td>6</td>\n",
       "      <td>80</td>\n",
       "      <td>339</td>\n",
       "      <td>413</td>\n",
       "      <td>2.680000e-22</td>\n",
       "      <td>106</td>\n",
       "    </tr>\n",
       "    <tr>\n",
       "      <th>2</th>\n",
       "      <td>M01457:82:000000000-B6GV3:1:1101:20647:1278</td>\n",
       "      <td>JX224392.1.1496_Desulfotomaculum</td>\n",
       "      <td>85.149</td>\n",
       "      <td>101</td>\n",
       "      <td>15</td>\n",
       "      <td>0</td>\n",
       "      <td>6</td>\n",
       "      <td>106</td>\n",
       "      <td>340</td>\n",
       "      <td>440</td>\n",
       "      <td>9.650000e-22</td>\n",
       "      <td>104</td>\n",
       "    </tr>\n",
       "    <tr>\n",
       "      <th>3</th>\n",
       "      <td>M01457:82:000000000-B6GV3:1:1101:20647:1278</td>\n",
       "      <td>JX224446.1.1287_Desulfosporosinus</td>\n",
       "      <td>90.789</td>\n",
       "      <td>76</td>\n",
       "      <td>5</td>\n",
       "      <td>2</td>\n",
       "      <td>6</td>\n",
       "      <td>80</td>\n",
       "      <td>136</td>\n",
       "      <td>210</td>\n",
       "      <td>1.250000e-20</td>\n",
       "      <td>100</td>\n",
       "    </tr>\n",
       "  </tbody>\n",
       "</table>\n",
       "</div>"
      ],
      "text/plain": [
       "   M01457:82:000000000-B6GV3:1:1101:20647:1278   \n",
       "0  M01457:82:000000000-B6GV3:1:1101:20647:1278  \\\n",
       "1  M01457:82:000000000-B6GV3:1:1101:20647:1278   \n",
       "2  M01457:82:000000000-B6GV3:1:1101:20647:1278   \n",
       "3  M01457:82:000000000-B6GV3:1:1101:20647:1278   \n",
       "\n",
       "    JX224393.1.1496_Desulfotomaculum  75.745  235  52  3  6  240  340  569   \n",
       "0   JX225284.1.1296_Desulfotomaculum  87.778   90  11  0  6   95  123  212  \\\n",
       "1   JX224226.1.1352_Desulfotomaculum  92.105   76   4  2  6   80  339  413   \n",
       "2   JX224392.1.1496_Desulfotomaculum  85.149  101  15  0  6  106  340  440   \n",
       "3  JX224446.1.1287_Desulfosporosinus  90.789   76   5  2  6   80  136  210   \n",
       "\n",
       "       1.60e-24  113  \n",
       "0  2.680000e-22  106  \n",
       "1  2.680000e-22  106  \n",
       "2  9.650000e-22  104  \n",
       "3  1.250000e-20  100  "
      ]
     },
     "execution_count": 5,
     "metadata": {},
     "output_type": "execute_result"
    }
   ],
   "source": [
    "import pandas as pd\n",
    "new = pd.read_csv('data/blastdb/tab.txt', sep='\\t')\n",
    "new"
   ]
  },
  {
   "attachments": {},
   "cell_type": "markdown",
   "metadata": {},
   "source": [
    "# Datasets\n",
    "\n",
    "These data sets will be the test datasets that you use\n",
    "\n",
    "- https://www.ebi.ac.uk/ena/browser/view/PRJEB9039 - Microbial life in geothermal and volcanic areas\n",
    "- https://www.ebi.ac.uk/ena/browser/view/PRJEB10824 - Functional diversity of Outokumpu fractures\n",
    "- https://www.ebi.ac.uk/ena/browser/view/PRJEB10822 Outokumpu fracture communities\n",
    "- https://www.ebi.ac.uk/ena/browser/view/PRJNA188465 Sulfidic cave snottites Metagenome\n",
    "- https://www.ebi.ac.uk/ena/browser/view/PRJNA487671 BACTERIAL COMMUNITIES IN THE ACID AND THERMOPHILIC CRATER-LAKE OF THE VOLCANO \"EL CHICHON\", MEXICO\n",
    "- https://www.ebi.ac.uk/ena/browser/view/PRJEB36834 Prokaryotic Community Profiling of the Mt. Makiling Mudspring\n",
    "- https://www.ebi.ac.uk/ena/browser/view/PRJEB10725 This dataset has both amplicon and shotgun data, so you would try out your method on the amplicon data only and see if it was able to recover the same go annotations. But it is 551 gb so be careful when downloading. Could use this as a training set\n",
    "  - https://www.ebi.ac.uk/ena/browser/view/PRJEB87662 This too\n",
    "  - This could also be used, only 14 gb https://www.ebi.ac.uk/ena/browser/view/PRJNA394849\n",
    "  - https://www.ebi.ac.uk/ena/browser/view/PRJEB34718 This one is on lichens, probably the best one because of its size\n",
    "- [Here](https://www-ncbi-nlm-nih-gov.ejournal.mahidol.ac.th/sra) is a link to the 16srRNA from [this](https://www.ebi.ac.uk/ena/browser/view/PRJNA682552?show=publications) sediment study\n",
    "- [Another](https://www-ncbi-nlm-nih-gov.ejournal.mahidol.ac.th/sra) 16srRNA resource from [this](https://www.ebi.ac.uk/metagenomics/studies/MGYS00000666#overview) soil study\n"
   ]
  },
  {
   "attachments": {},
   "cell_type": "markdown",
   "metadata": {},
   "source": [
    "# Machine learning\n",
    "\n",
    "https://www.kaggle.com/code/singhakash/dna-sequencing-with-machine-learning What you should use for the learning\n"
   ]
  },
  {
   "attachments": {},
   "cell_type": "markdown",
   "metadata": {},
   "source": [
    "# Metagenomic processing\n",
    "Most of this will be handled with qiime2, a cli program\n",
    "- Presentation outline\n",
    "    - Introduce the topic and rationale\n",
    "    - Data exploration \n",
    "        - characteristic noise in fastq files \n",
    "        - blast searches on overrepresented sequences \n",
    "    - Taxonomic classification\n",
    "        - How you trained the models\n",
    "    - Statistical methods for diversity\n",
    "        - Alpha diversity \n",
    "        - Beta diversity \n",
    "            - ANCOM-BC\n",
    "            - Differential abundance analysis\n",
    "            - Permanova"
   ]
  },
  {
   "attachments": {},
   "cell_type": "markdown",
   "metadata": {},
   "source": [
    "# Working with MGnify API\n",
    "Courtesy of https://shiny-portal.embl.de/shinyapps/app/06_mgnify-notebook-lab"
   ]
  },
  {
   "cell_type": "code",
   "execution_count": 3,
   "metadata": {},
   "outputs": [],
   "source": [
    "import os\n",
    "from IPython.display import Markdown\n",
    "\n",
    "def get_variable_from_link_or_input(variable, name = 'accession', default = None):\n",
    "    \"\"\"\n",
    "    Get a variable value, either from an ENV VAR that would have been set by the shiny_proxy_jlab_query_parms extension, or through direct user input.\n",
    "    \"\"\"\n",
    "    var = os.getenv(variable)\n",
    "    if var:\n",
    "        display(Markdown(f'<span style=\"background-color: #0a5032; color: #fff; padding: 8px;\">Using {name} <emph>{var}</emph> from the link you followed.</span>'))\n",
    "    else:\n",
    "        var = input(f'Type {\"an\" if name[0].lower() in \"aeiou\" else \"a\"} {name} [default: {str(default)}]')\n",
    "    var = var or default\n",
    "    print(f'Using \"{var}\" as {name}')\n",
    "    return var"
   ]
  },
  {
   "cell_type": "code",
   "execution_count": 9,
   "metadata": {},
   "outputs": [
    {
     "data": {
      "text/html": [
       "<div>\n",
       "<style scoped>\n",
       "    .dataframe tbody tr th:only-of-type {\n",
       "        vertical-align: middle;\n",
       "    }\n",
       "\n",
       "    .dataframe tbody tr th {\n",
       "        vertical-align: top;\n",
       "    }\n",
       "\n",
       "    .dataframe thead th {\n",
       "        text-align: right;\n",
       "    }\n",
       "</style>\n",
       "<table border=\"1\" class=\"dataframe\">\n",
       "  <thead>\n",
       "    <tr style=\"text-align: right;\">\n",
       "      <th></th>\n",
       "      <th>type</th>\n",
       "      <th>id</th>\n",
       "      <th>attributes.samples-count</th>\n",
       "      <th>attributes.biome-name</th>\n",
       "      <th>attributes.lineage</th>\n",
       "    </tr>\n",
       "  </thead>\n",
       "  <tbody>\n",
       "    <tr>\n",
       "      <th>0</th>\n",
       "      <td>biomes</td>\n",
       "      <td>root:Engineered</td>\n",
       "      <td>284</td>\n",
       "      <td>Engineered</td>\n",
       "      <td>root:Engineered</td>\n",
       "    </tr>\n",
       "    <tr>\n",
       "      <th>1</th>\n",
       "      <td>biomes</td>\n",
       "      <td>root:Engineered:Biogas plant</td>\n",
       "      <td>126</td>\n",
       "      <td>Biogas plant</td>\n",
       "      <td>root:Engineered:Biogas plant</td>\n",
       "    </tr>\n",
       "    <tr>\n",
       "      <th>2</th>\n",
       "      <td>biomes</td>\n",
       "      <td>root:Engineered:Biogas plant:Wet fermentation</td>\n",
       "      <td>111</td>\n",
       "      <td>Wet fermentation</td>\n",
       "      <td>root:Engineered:Biogas plant:Wet fermentation</td>\n",
       "    </tr>\n",
       "    <tr>\n",
       "      <th>3</th>\n",
       "      <td>biomes</td>\n",
       "      <td>root:Engineered:Bioreactor</td>\n",
       "      <td>1003</td>\n",
       "      <td>Bioreactor</td>\n",
       "      <td>root:Engineered:Bioreactor</td>\n",
       "    </tr>\n",
       "    <tr>\n",
       "      <th>4</th>\n",
       "      <td>biomes</td>\n",
       "      <td>root:Engineered:Bioreactor:Continuous culture</td>\n",
       "      <td>648</td>\n",
       "      <td>Continuous culture</td>\n",
       "      <td>root:Engineered:Bioreactor:Continuous culture</td>\n",
       "    </tr>\n",
       "    <tr>\n",
       "      <th>...</th>\n",
       "      <td>...</td>\n",
       "      <td>...</td>\n",
       "      <td>...</td>\n",
       "      <td>...</td>\n",
       "      <td>...</td>\n",
       "    </tr>\n",
       "    <tr>\n",
       "      <th>486</th>\n",
       "      <td>biomes</td>\n",
       "      <td>root:Host-associated:Spiralia</td>\n",
       "      <td>4</td>\n",
       "      <td>Spiralia</td>\n",
       "      <td>root:Host-associated:Spiralia</td>\n",
       "    </tr>\n",
       "    <tr>\n",
       "      <th>487</th>\n",
       "      <td>biomes</td>\n",
       "      <td>root:Host-associated:Tunicates</td>\n",
       "      <td>0</td>\n",
       "      <td>Tunicates</td>\n",
       "      <td>root:Host-associated:Tunicates</td>\n",
       "    </tr>\n",
       "    <tr>\n",
       "      <th>488</th>\n",
       "      <td>biomes</td>\n",
       "      <td>root:Host-associated:Tunicates:Ascidians</td>\n",
       "      <td>0</td>\n",
       "      <td>Ascidians</td>\n",
       "      <td>root:Host-associated:Tunicates:Ascidians</td>\n",
       "    </tr>\n",
       "    <tr>\n",
       "      <th>489</th>\n",
       "      <td>biomes</td>\n",
       "      <td>root:Control</td>\n",
       "      <td>3</td>\n",
       "      <td>Control</td>\n",
       "      <td>root:Control</td>\n",
       "    </tr>\n",
       "    <tr>\n",
       "      <th>490</th>\n",
       "      <td>biomes</td>\n",
       "      <td>root:Mixed</td>\n",
       "      <td>17687</td>\n",
       "      <td>Mixed</td>\n",
       "      <td>root:Mixed</td>\n",
       "    </tr>\n",
       "  </tbody>\n",
       "</table>\n",
       "<p>491 rows × 5 columns</p>\n",
       "</div>"
      ],
      "text/plain": [
       "       type                                             id   \n",
       "0    biomes                                root:Engineered  \\\n",
       "1    biomes                   root:Engineered:Biogas plant   \n",
       "2    biomes  root:Engineered:Biogas plant:Wet fermentation   \n",
       "3    biomes                     root:Engineered:Bioreactor   \n",
       "4    biomes  root:Engineered:Bioreactor:Continuous culture   \n",
       "..      ...                                            ...   \n",
       "486  biomes                  root:Host-associated:Spiralia   \n",
       "487  biomes                 root:Host-associated:Tunicates   \n",
       "488  biomes       root:Host-associated:Tunicates:Ascidians   \n",
       "489  biomes                                   root:Control   \n",
       "490  biomes                                     root:Mixed   \n",
       "\n",
       "     attributes.samples-count attributes.biome-name   \n",
       "0                         284            Engineered  \\\n",
       "1                         126          Biogas plant   \n",
       "2                         111      Wet fermentation   \n",
       "3                        1003            Bioreactor   \n",
       "4                         648    Continuous culture   \n",
       "..                        ...                   ...   \n",
       "486                         4              Spiralia   \n",
       "487                         0             Tunicates   \n",
       "488                         0             Ascidians   \n",
       "489                         3               Control   \n",
       "490                     17687                 Mixed   \n",
       "\n",
       "                                attributes.lineage  \n",
       "0                                  root:Engineered  \n",
       "1                     root:Engineered:Biogas plant  \n",
       "2    root:Engineered:Biogas plant:Wet fermentation  \n",
       "3                       root:Engineered:Bioreactor  \n",
       "4    root:Engineered:Bioreactor:Continuous culture  \n",
       "..                                             ...  \n",
       "486                  root:Host-associated:Spiralia  \n",
       "487                 root:Host-associated:Tunicates  \n",
       "488       root:Host-associated:Tunicates:Ascidians  \n",
       "489                                   root:Control  \n",
       "490                                     root:Mixed  \n",
       "\n",
       "[491 rows x 5 columns]"
      ]
     },
     "metadata": {},
     "output_type": "display_data"
    }
   ],
   "source": [
    "from jsonapi_client import Session\n",
    "import pandas as pd\n",
    "\n",
    "api_endpoint = 'biomes'\n",
    "\n",
    "\n",
    "with Session(\"https://www.ebi.ac.uk/metagenomics/api/v1\") as mgnify:\n",
    "    view = map(lambda r: r.json, mgnify.iterate(api_endpoint))   \n",
    "    view = pd.json_normalize(view) \n",
    "    display(view)"
   ]
  },
  {
   "attachments": {},
   "cell_type": "markdown",
   "metadata": {},
   "source": [
    "## Backup data\n",
    "- Muztagh ata https://www.ncbi.nlm.nih.gov/bioproject/884890, single-end, illumina miniseq\n",
    "- Barrow Alaska https://www.ebi.ac.uk/ena/browser/view/PRJEB9043, single-end, illumina hiseq 2000\n",
    "- Devon ice cap https://www.ncbi.nlm.nih.gov/bioproject/564341, paired -end, illumina minseq\n",
    "- Sverdrup Glacier https://www.ncbi.nlm.nih.gov/bioproject/899883, paired-end, illumina miniseq\n",
    "- Greenland Ice sheet https://www.ncbi.nlm.nih.gov/sra?linkname=bioproject_sra_all&from_uid=517071"
   ]
  }
 ],
 "metadata": {
  "kernelspec": {
   "display_name": "base",
   "language": "python",
   "name": "python3"
  },
  "language_info": {
   "codemirror_mode": {
    "name": "ipython",
    "version": 3
   },
   "file_extension": ".py",
   "mimetype": "text/x-python",
   "name": "python",
   "nbconvert_exporter": "python",
   "pygments_lexer": "ipython3",
   "version": "3.11.3"
  },
  "orig_nbformat": 4
 },
 "nbformat": 4,
 "nbformat_minor": 2
}
