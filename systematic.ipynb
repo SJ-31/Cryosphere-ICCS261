{
  "cells": [
    {
      "attachments": {},
      "cell_type": "markdown",
      "metadata": {},
      "source": [
        "###### Imports\n"
      ]
    },
    {
      "cell_type": "code",
      "execution_count": 53,
      "metadata": {},
      "outputs": [],
      "source": [
        "# Imports\n",
        "from qiime2 import Metadata\n",
        "import pandas as pd\n",
        "from qiime2 import Artifact, sdk\n",
        "from ete3 import Tree, PhyloTree, TreeNode, TreeStyle\n",
        "import matplotlib.pyplot as plt\n",
        "import seaborn as sns\n",
        "from Bio import SeqIO\n",
        "\n",
        "# Useful functions\n",
        "import matplotlib\n",
        "%matplotlib inline\n",
        "matplotlib.use('module://ipykernel.pylab.backend_inline')\n",
        "pm = sdk.PluginManager()\n",
        "def see(artifact):\n",
        "    from_format = artifact.format\n",
        "    if issubclass(from_format, sdk.plugin_manager.SingleFileDirectoryFormatBase):\n",
        "        from_format = artifact.format.file.format\n",
        "    return set(pm.transformers[from_format].keys())\n",
        "import os\n",
        "import pandas\n",
        "import qiime2\n",
        "import tempfile\n",
        "\n",
        "def v2frame(viz_fp: str) -> list:\n",
        "    '''viz_fp is a path to the qiime2 visualization object'''\n",
        "    viz = qiime2.Visualization.load(viz_fp)\n",
        "    with tempfile.TemporaryDirectory() as tmpdir:\n",
        "        viz.export_data(tmpdir)\n",
        "        fp = os.path.join(tmpdir, 'quality-plot.html')\n",
        "        ov = os.path.join(tmpdir, 'overview.html')\n",
        "        dfs = pandas.read_html(fp, index_col=0)\n",
        "        df2s = pandas.read_html(ov, index_col=0)\n",
        "    return dfs + df2s\n",
        "\n",
        "def get_tax(tax: str) -> str:\n",
        "    if not ';' in tax:\n",
        "        return tax\n",
        "    tax = tax.split(';')\n",
        "    for t in tax[::-1]:\n",
        "        if ' ' == t[0]:\n",
        "            if 'uncultured' in t:\n",
        "                continue\n",
        "            return t.strip().replace(';', '')\n",
        "        if t[-1:-3] == '_s':\n",
        "            continue\n",
        "        return t\n",
        "\n",
        "metadata = pd.read_csv('sys_metadata.tsv', sep='\\t').drop(0).reset_index()"
      ]
    },
    {
      "attachments": {},
      "cell_type": "markdown",
      "metadata": {},
      "source": [
        "### Jellyfish microbiome analysis\n",
        "\n",
        "#### Sample background\n",
        "\n",
        "The data is the microbiome of the arms\n"
      ]
    },
    {
      "attachments": {},
      "cell_type": "markdown",
      "metadata": {},
      "source": [
        "#### Importing the data\n",
        "\n",
        "The fastq files contain single-end reads, sequenced with the 454 GS FLX+ via a pyrosequencing approach\n",
        "https://trace.ncbi.nlm.nih.gov/Traces/study/?acc=SRP254518&o=acc_s%3Aa&s=SRR11447095,SRR11447093,SRR11447098\n",
        "\n",
        "```{bash}\n",
        "qiime tools import \\\n",
        "    --type 'SampleData[SequencesWithQuality]' \\\n",
        "    --input-path data.tsv \\\n",
        "    --output-path jelly.qza \\\n",
        "    --input-format SingleEndFastqManifestPhred33V2\n",
        "```\n"
      ]
    },
    {
      "attachments": {},
      "cell_type": "markdown",
      "metadata": {},
      "source": [
        "### Raw data exploration\n",
        "\n",
        "The initial data exploration was performed with fastqc. There is a high variation in read length, though the majority are in the 450 - 500 bp range. As expected for short-read sequencing, read quality drops at higher read lengths, necessitating trimming. Surprisingly, the sample has little adapter content.\n",
        "\n",
        "#### Blasting overrepresenting sequences\n",
        "\n",
        "To get a rough idea of what microorganisms were represented most in the sample, I used data from `fastqc`'s overrepresented sequences module.\n",
        "The sequences listed in the module were combined, clustered together to remove redundant reads with `cd-hit`, then blasted against the custom 16s rRNA database.\n",
        "\n",
        "- `cd-hit` grouped 238 overrepresented sequences from the 7 samples into only 17 clusters\n",
        "- The following describes the best 3 hits for the top 3 most overrepresented sequences\n",
        "  - 1. Entoplasma, Mesoplasma, Lebetimonas\n",
        "  - 2. _Ferruginivarius sediminum_, Azospirillum, Desulfosporosinus\n",
        "  - 3. Flavobacteria, Dokdonia, Joostella\n"
      ]
    },
    {
      "attachments": {},
      "cell_type": "markdown",
      "metadata": {},
      "source": [
        "### Quality control\n",
        "\n",
        "The dada2 plugin denoises sequences and dereplicates them\n"
      ]
    },
    {
      "attachments": {},
      "cell_type": "markdown",
      "metadata": {},
      "source": [
        "##### Clustering\n",
        "\n",
        "Once the sequences have been dereplicated, they can be clustered them into operational taxonomic units (OTUs). Given that jellyfish microorganisms may not be as well represented in databases, I'll be using de novo clustering rather than reference-based\n"
      ]
    },
    {
      "attachments": {},
      "cell_type": "markdown",
      "metadata": {},
      "source": [
        "## Phylogeny reconstruction\n",
        "\n",
        "- Reconstructing a phylogenetic tree from the otu sequences may allow us to identify unknown otus by placing them in relation to those that were identified.\n",
        "- qiime2 offers several different methods for\n"
      ]
    },
    {
      "cell_type": "code",
      "execution_count": 32,
      "metadata": {},
      "outputs": [],
      "source": [
        "from skbio.tree import TreeNode\n",
        "from io import StringIO\n",
        "fasttree = PhyloTree(Artifact.load('results/6-RootedTrees/Jelly-FastTree_RootedTree.qza').view(TreeNode).__str__(), format=1)\n",
        "iqtree = Tree(Artifact.load('results/6-RootedTrees/Jelly-IQTREE_RootedTree.qza').view(TreeNode).__str__(), format=1)\n",
        "raxml = Tree(Artifact.load('results/6-RootedTrees/Jelly-RAxML_RootedTree.qza').view(TreeNode).__str__(), format=1)\n",
        "for tree in [fasttree, iqtree, raxml]:\n",
        "    for node in tree.traverse():\n",
        "        if node.is_leaf():\n",
        "            node.name = blast[node.name]\n",
        "style = TreeStyle()\n",
        "style.scale = 300\n",
        "# style.mode = \"c\"\n",
        "style.branch_vertical_margin = 15\n",
        "fasttree.show(tree_style=style)"
      ]
    },
    {
      "attachments": {},
      "cell_type": "markdown",
      "metadata": {},
      "source": [
        "## Diversity analyses\n"
      ]
    },
    {
      "cell_type": "code",
      "execution_count": 47,
      "metadata": {},
      "outputs": [],
      "source": [
        "# Graphing functions\n",
        "def plot_pcoa_2d(pcoa_data: pd.DataFrame, title: str,\n",
        "                highlight: str):\n",
        "    fig, ax = plt.subplots()\n",
        "    classes = pcoa_data[highlight].unique()\n",
        "    for c in classes:\n",
        "        one_class = pcoa_data[pcoa_data[highlight] == c]\n",
        "        ax.scatter(one_class.iloc[:, 0], one_class.iloc[:, 1], s=50)\n",
        "    ax.set_xlabel('PC 1')\n",
        "    ax.set_ylabel('PC 2')\n",
        "    ax.legend(classes)\n",
        "    ax.set_title(title)\n",
        "    plt.show()"
      ]
    },
    {
      "cell_type": "code",
      "execution_count": 48,
      "metadata": {},
      "outputs": [],
      "source": [
        "# Alpha diversity\n",
        "pielou_e = Artifact.load('./results/7-Diversity/Jelly/Jelly-A_pielou_e.qza').view(pd.Series)\n",
        "shannon = Artifact.load('./results/7-Diversity/Jelly/Jelly-A_shannon.qza').view(pd.Series)\n",
        "simpson = Artifact.load('./results/7-Diversity/Jelly/Jelly-A_simpson.qza').view(pd.Series)\n",
        "simpson_e = Artifact.load('./results/7-Diversity/Jelly/Jelly-A_simpson_e.qza').view(pd.Series)\n",
        "\n",
        "# Beta diversity\n",
        "pcoaBC = Artifact.load('results/8-Analysis/Jelly/Jelly-PCOA_B_braycurtis.qza').view(Metadata).to_dataframe().merge(metadata, left_index=True, right_on='sample-id')\n",
        "pcoaJ = Artifact.load('results/8-Analysis/Jelly/Jelly-PCOA_B_jaccard.qza').view(Metadata).to_dataframe().merge(metadata, left_index=True, right_on='sample-id')\n",
        "pcoaUu = Artifact.load('results/8-Analysis/Jelly/Jelly-PCOA_BPhylo_unweighted_unifrac.qza').view(Metadata).to_dataframe().merge(metadata, left_index=True, right_on='sample-id')\n",
        "pcoaUn = Artifact.load('results/8-Analysis/Jelly/Jelly-PCOA_BPhylo_weighted_normalized_unifrac.qza').view(Metadata).to_dataframe().merge(metadata, left_index=True, right_on='sample-id')\n",
        "pcoaWu = Artifact.load('results/8-Analysis/Jelly/Jelly-PCOA_BPhylo_weighted_unifrac.qza').view(Metadata).to_dataframe().merge(metadata, left_index=True, right_on='sample-id')"
      ]
    },
    {
      "cell_type": "code",
      "execution_count": 58,
      "metadata": {},
      "outputs": [
        {
          "data": {
            "image/png": "[encoded data removed]",
            "text/plain": [
              "<Figure size 640x480 with 1 Axes>"
            ]
          },
          "metadata": {},
          "output_type": "display_data"
        }
      ],
      "source": [
        "plot_pcoa_2d(pcoaUu, 'Bray Curtis', 'source')"
      ]
    },
    {
      "attachments": {},
      "cell_type": "markdown",
      "metadata": {},
      "source": [
        "## Data sources\n",
        "\n",
        "- https://www.ebi.ac.uk/ena/browser/view/PRJEB8518\n",
        "- https://docs.qiime2.org/2023.5/data-resources/ High-quality reference OTUs\n",
        "- The `see` and `v2frame` functions were obtained from [this](https://forum.qiime2.org/t/how-to-capture-a-value-from-a-summary-and-pipe-it/19783/5) link via user thermokarst\n"
      ]
    }
  ],
  "metadata": {
    "kernelspec": {
      "display_name": "Python 3 (ipykernel)",
      "language": "python",
      "name": "python3"
    },
    "language_info": {
      "codemirror_mode": {
        "name": "ipython",
        "version": 3
      },
      "file_extension": ".py",
      "mimetype": "text/x-python",
      "name": "python",
      "nbconvert_exporter": "python",
      "pygments_lexer": "ipython3",
      "version": "3.8.15"
    }
  },
  "nbformat": 4,
  "nbformat_minor": 4
}
